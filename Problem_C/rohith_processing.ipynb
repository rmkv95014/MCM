{
 "cells": [
  {
   "cell_type": "code",
   "execution_count": 14,
   "metadata": {},
   "outputs": [],
   "source": [
    "import pandas as pd\n",
    "import matplotlib.pyplot as plt\n",
    "import seaborn as sns\n",
    "import numpy as np"
   ]
  },
  {
   "cell_type": "code",
   "execution_count": 4,
   "metadata": {},
   "outputs": [],
   "source": [
    "athletes_data = pd.read_csv('2025_Problem_C_Data/summerOly_athletes.csv', encoding='latin1')\n",
    "hosts_data = pd.read_csv('2025_Problem_C_Data/summerOly_hosts.csv', encoding='latin1')\n",
    "medal_data = pd.read_csv('2025_Problem_C_Data/summerOly_medal_counts.csv', encoding='latin1')\n",
    "programs_data = pd.read_csv('2025_Problem_C_Data/summerOly_programs.csv', encoding='latin1')"
   ]
  },
  {
   "cell_type": "code",
   "execution_count": 30,
   "metadata": {},
   "outputs": [
    {
     "data": {
      "text/html": [
       "<div>\n",
       "<style scoped>\n",
       "    .dataframe tbody tr th:only-of-type {\n",
       "        vertical-align: middle;\n",
       "    }\n",
       "\n",
       "    .dataframe tbody tr th {\n",
       "        vertical-align: top;\n",
       "    }\n",
       "\n",
       "    .dataframe thead th {\n",
       "        text-align: right;\n",
       "    }\n",
       "</style>\n",
       "<table border=\"1\" class=\"dataframe\">\n",
       "  <thead>\n",
       "    <tr style=\"text-align: right;\">\n",
       "      <th></th>\n",
       "      <th>Rank</th>\n",
       "      <th>NOC</th>\n",
       "      <th>Gold</th>\n",
       "      <th>Silver</th>\n",
       "      <th>Bronze</th>\n",
       "      <th>Total</th>\n",
       "      <th>Year</th>\n",
       "    </tr>\n",
       "  </thead>\n",
       "  <tbody>\n",
       "    <tr>\n",
       "      <th>0</th>\n",
       "      <td>1</td>\n",
       "      <td>United States</td>\n",
       "      <td>11</td>\n",
       "      <td>7</td>\n",
       "      <td>2</td>\n",
       "      <td>20</td>\n",
       "      <td>1896</td>\n",
       "    </tr>\n",
       "    <tr>\n",
       "      <th>1</th>\n",
       "      <td>2</td>\n",
       "      <td>Greece</td>\n",
       "      <td>10</td>\n",
       "      <td>18</td>\n",
       "      <td>19</td>\n",
       "      <td>47</td>\n",
       "      <td>1896</td>\n",
       "    </tr>\n",
       "    <tr>\n",
       "      <th>2</th>\n",
       "      <td>3</td>\n",
       "      <td>Germany</td>\n",
       "      <td>6</td>\n",
       "      <td>5</td>\n",
       "      <td>2</td>\n",
       "      <td>13</td>\n",
       "      <td>1896</td>\n",
       "    </tr>\n",
       "    <tr>\n",
       "      <th>3</th>\n",
       "      <td>4</td>\n",
       "      <td>France</td>\n",
       "      <td>5</td>\n",
       "      <td>4</td>\n",
       "      <td>2</td>\n",
       "      <td>11</td>\n",
       "      <td>1896</td>\n",
       "    </tr>\n",
       "    <tr>\n",
       "      <th>4</th>\n",
       "      <td>5</td>\n",
       "      <td>Great Britain</td>\n",
       "      <td>2</td>\n",
       "      <td>3</td>\n",
       "      <td>2</td>\n",
       "      <td>7</td>\n",
       "      <td>1896</td>\n",
       "    </tr>\n",
       "  </tbody>\n",
       "</table>\n",
       "</div>"
      ],
      "text/plain": [
       "   Rank            NOC  Gold  Silver  Bronze  Total  Year\n",
       "0     1  United States    11       7       2     20  1896\n",
       "1     2         Greece    10      18      19     47  1896\n",
       "2     3        Germany     6       5       2     13  1896\n",
       "3     4         France     5       4       2     11  1896\n",
       "4     5  Great Britain     2       3       2      7  1896"
      ]
     },
     "execution_count": 30,
     "metadata": {},
     "output_type": "execute_result"
    }
   ],
   "source": [
    "medal_data.head()"
   ]
  },
  {
   "cell_type": "code",
   "execution_count": 29,
   "metadata": {},
   "outputs": [
    {
     "name": "stdout",
     "output_type": "stream",
     "text": [
      "[20, 48, 231, 47, 64, 95, 99, 56, 57, 84, 76, 74, 90, 107, 94, 94, 174, 94, 108, 101, 93, 101, 112, 104, 121, 113, 126]\n"
     ]
    }
   ],
   "source": [
    "def get_medal_count_for_country(country):\n",
    "    total_medals = []\n",
    "    gold_medals = []\n",
    "    years = []\n",
    "    for row in medal_data.itertuples():\n",
    "        year = row[7]\n",
    "        if(row[2] != country):\n",
    "            continue\n",
    "        years.append(year)\n",
    "        total_medals.append(row[6])\n",
    "        gold_medals.append(row[2])\n",
    "    return (total_medals, gold_medals)"
   ]
  },
  {
   "cell_type": "code",
   "execution_count": 18,
   "metadata": {},
   "outputs": [
    {
     "name": "stdout",
     "output_type": "stream",
     "text": [
      "[1904, 1932, 1984, 1996, 2028]\n"
     ]
    }
   ],
   "source": [
    "def get_host_years_for_country(country)\n",
    "    host_years = []\n",
    "    for host in hosts_data.itertuples():\n",
    "        if(country in host[2]):\n",
    "            host_years.append(host[1])\n",
    "    return host_years"
   ]
  },
  {
   "cell_type": "code",
   "execution_count": 19,
   "metadata": {},
   "outputs": [
    {
     "data": {
      "image/png": "[encoded data removed]",
      "text/plain": [
       "<Figure size 640x480 with 1 Axes>"
      ]
     },
     "metadata": {},
     "output_type": "display_data"
    }
   ],
   "source": [
    "np_tot = np.asarray(total_medals)\n",
    "np_gold = np.asarray(gold_medals)\n",
    "np_years = np.asarray(years)\n",
    "\n",
    "plt.scatter(np_years, np_tot)\n",
    "plt.xlabel('Year')\n",
    "plt.ylabel(\"medals\")\n",
    "\n",
    "for year in host_years:\n",
    "    if(year <= 2024):\n",
    "        plt.axvline(x=year, c='#a9a9a9', linestyle='--')\n",
    "\n",
    "plt.show()"
   ]
  },
  {
   "cell_type": "code",
   "execution_count": null,
   "metadata": {},
   "outputs": [],
   "source": [
    "# Example 2: Line Plot for Number of Events Over Time\n",
    "if 'Year' in events_data.columns and 'Event Count' in events_data.columns:\n",
    "    plt.figure(figsize=(10, 6))\n",
    "    sns.lineplot(x='Year', y='Event Count', data=events_data, marker='o')\n",
    "    plt.title('Number of Events Over Time', fontsize=16)\n",
    "    plt.xlabel('Year')\n",
    "    plt.ylabel('Number of Events')\n",
    "    plt.grid(True)\n",
    "    plt.tight_layout()\n",
    "    plt.show()"
   ]
  },
  {
   "cell_type": "code",
   "execution_count": null,
   "metadata": {},
   "outputs": [],
   "source": [
    "# Example 3: Pie Chart of Medal Distribution for a Specific Country\n",
    "country = 'United States'  # Replace with the country of your choice\n",
    "country_data = medal_data[medal_data['Country'] == country]\n",
    "\n",
    "if not country_data.empty:\n",
    "    medals = ['Gold', 'Silver', 'Bronze']\n",
    "    values = [country_data['Gold'].values[0], country_data['Silver'].values[0], country_data['Bronze'].values[0]]\n",
    "\n",
    "    plt.figure(figsize=(8, 8))\n",
    "    plt.pie(values, labels=medals, autopct='%1.1f%%', startangle=140, colors=['#FFD700', '#C0C0C0', '#CD7F32'])\n",
    "    plt.title(f'Medal Distribution for {country} (2024 Olympics)', fontsize=16)\n",
    "    plt.show()"
   ]
  },
  {
   "cell_type": "code",
   "execution_count": null,
   "metadata": {},
   "outputs": [],
   "source": [
    "# Example 4: Heatmap for Medal Counts\n",
    "plt.figure(figsize=(12, 6))\n",
    "pivot = medal_data.pivot(index='Country', columns='Medal Type', values='Count')  # Adapt to your data structure\n",
    "sns.heatmap(pivot, annot=True, fmt='.0f', cmap='coolwarm', linewidths=0.5)\n",
    "plt.title('Medal Counts Heatmap')\n",
    "plt.xlabel('Medal Type')\n",
    "plt.ylabel('Country')\n",
    "plt.tight_layout()\n",
    "plt.show()"
   ]
  }
 ],
 "metadata": {
  "kernelspec": {
   "display_name": "Python 3",
   "language": "python",
   "name": "python3"
  },
  "language_info": {
   "codemirror_mode": {
    "name": "ipython",
    "version": 3
   },
   "file_extension": ".py",
   "mimetype": "text/x-python",
   "name": "python",
   "nbconvert_exporter": "python",
   "pygments_lexer": "ipython3",
   "version": "3.11.4"
  }
 },
 "nbformat": 4,
 "nbformat_minor": 2
}
